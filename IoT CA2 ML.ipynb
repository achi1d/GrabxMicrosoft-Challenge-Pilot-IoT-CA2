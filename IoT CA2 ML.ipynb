{
 "metadata": {
  "language_info": {
   "codemirror_mode": {
    "name": "ipython",
    "version": 3
   },
   "file_extension": ".py",
   "mimetype": "text/x-python",
   "name": "python",
   "nbconvert_exporter": "python",
   "pygments_lexer": "ipython3",
   "version": "3.8.3-final"
  },
  "orig_nbformat": 2,
  "kernelspec": {
   "name": "python3",
   "display_name": "Python 3"
  }
 },
 "nbformat": 4,
 "nbformat_minor": 2,
 "cells": [
  {
   "cell_type": "code",
   "execution_count": 39,
   "metadata": {},
   "outputs": [],
   "source": [
    "import glob\n",
    "import pandas as pd\n",
    "import numpy as np\n",
    "\n",
    "from sklearn.model_selection import train_test_split\n",
    "from sklearn.linear_model import LogisticRegression\n",
    "from sklearn.decomposition import PCA\n",
    "from statistics import mean, median\n",
    "import pickle"
   ]
  },
  {
   "cell_type": "code",
   "execution_count": 2,
   "metadata": {
    "tags": []
   },
   "outputs": [],
   "source": [
    "# Read feature csv files and concate as single dataframe\n",
    "full_path = r'D:/School/IOT/CA2 Assignment/'\n",
    "\n",
    "path_f = full_path + 'features' # use your path\n",
    "all_feature_files = glob.glob(path_f + \"/*.csv\")\n",
    "\n",
    "df_f = pd.DataFrame()\n",
    "df_l = pd.DataFrame()\n",
    "\n",
    "li = []\n",
    "\n",
    "for filename in all_feature_files:\n",
    "    df = pd.read_csv(filename, index_col=None, header=0, dtype={'bookingID' : 'object'})\n",
    "    li.append(df)\n",
    "\n",
    "df_f = pd.concat(li, axis=0, ignore_index=True)\n",
    "\n",
    "# Read label csv file\n",
    "df_l = pd.read_csv(full_path + 'label/part-00000-e9445087-aa0a-433b-a7f6-7f4c19d78ad6-c000.csv', index_col=None, header=0, dtype={'bookingID' : 'object'})"
   ]
  },
  {
   "cell_type": "code",
   "execution_count": 3,
   "metadata": {},
   "outputs": [],
   "source": [
    "# sort according to bookingID & seconds\n",
    "df_f = df_f.sort_values(['bookingID', 'second']).reset_index(drop=True)\n",
    "df_l = df_l.sort_values(by='bookingID', ascending=True)"
   ]
  },
  {
   "cell_type": "code",
   "execution_count": 4,
   "metadata": {},
   "outputs": [],
   "source": [
    "# Data cleaning\n",
    "# identify all bookingID with conflicting labels (multiple labels) and remove\n",
    "conflict_trips = df_l.loc[df_l.bookingID.duplicated(), 'bookingID']\n",
    "df_f = df_f[~df_f['bookingID'].isin(conflict_trips)]\n",
    "df_l = df_l[~df_l['bookingID'].isin(conflict_trips)]\n",
    "\n",
    "# filter out GPS data with low accuracy and speed equals -1\n",
    "df_f = df_f.loc[(df_f.Accuracy <= np.percentile(df_f.Accuracy, 95)) & (df_f.Speed != -1)]"
   ]
  },
  {
   "cell_type": "code",
   "execution_count": 5,
   "metadata": {},
   "outputs": [],
   "source": [
    "# column names\n",
    "COL_ACCE = ('acceleration_x', 'acceleration_y', 'acceleration_z')\n",
    "COL_GYRO = ('gyro_x', 'gyro_y', 'gyro_z')"
   ]
  },
  {
   "cell_type": "code",
   "execution_count": 6,
   "metadata": {},
   "outputs": [],
   "source": [
    "# Data transformation\n",
    "# calculate magnitude of acceleration\n",
    "df_f['acceleration'] = np.sqrt((df_f.loc[:, COL_ACCE] ** 2).sum(axis=1))\n",
    "\n",
    "# transform gyro readings using Principal Component Analysis\n",
    "pca_gyro = PCA().fit(df_f.loc[:, COL_GYRO])\n",
    "df_f['gyro'] = 0 # initialize the column first (the next line of code won't work if not initialized)\n",
    "df_f['gyro'] = pca_gyro.transform(df_f.loc[:, COL_GYRO])"
   ]
  },
  {
   "cell_type": "code",
   "execution_count": 7,
   "metadata": {},
   "outputs": [],
   "source": [
    "# drop unused columns\n",
    "df_f.drop(['Accuracy', 'Bearing', 'second'], axis=1, inplace=True)"
   ]
  },
  {
   "cell_type": "code",
   "execution_count": 8,
   "metadata": {
    "tags": []
   },
   "outputs": [
    {
     "output_type": "execute_result",
     "data": {
      "text/plain": "  bookingID  acceleration_x  acceleration_y  acceleration_z    gyro_x  \\\n0         0        0.818112       -9.941461       -2.014999 -0.016245   \n1         0        0.546405       -9.835590       -2.038925 -0.047092   \n2         0       -1.706207       -9.270792       -1.209448 -0.028965   \n3         0       -1.416705       -9.548032       -1.860977 -0.022413   \n4         0       -0.598145       -9.853534       -1.378574 -0.014297   \n\n     gyro_y    gyro_z     Speed  acceleration      gyro  \n0 -0.094040  0.070732  3.442991     10.176551 -0.089178  \n1 -0.078874  0.043187  0.228454     10.059553 -0.076696  \n2 -0.032652  0.015390  0.228454      9.503762 -0.032301  \n3  0.005049 -0.025753  0.228454      9.830320  0.002385  \n4 -0.046206  0.021902  0.228454      9.967466 -0.045045  ",
      "text/html": "<div>\n<style scoped>\n    .dataframe tbody tr th:only-of-type {\n        vertical-align: middle;\n    }\n\n    .dataframe tbody tr th {\n        vertical-align: top;\n    }\n\n    .dataframe thead th {\n        text-align: right;\n    }\n</style>\n<table border=\"1\" class=\"dataframe\">\n  <thead>\n    <tr style=\"text-align: right;\">\n      <th></th>\n      <th>bookingID</th>\n      <th>acceleration_x</th>\n      <th>acceleration_y</th>\n      <th>acceleration_z</th>\n      <th>gyro_x</th>\n      <th>gyro_y</th>\n      <th>gyro_z</th>\n      <th>Speed</th>\n      <th>acceleration</th>\n      <th>gyro</th>\n    </tr>\n  </thead>\n  <tbody>\n    <tr>\n      <th>0</th>\n      <td>0</td>\n      <td>0.818112</td>\n      <td>-9.941461</td>\n      <td>-2.014999</td>\n      <td>-0.016245</td>\n      <td>-0.094040</td>\n      <td>0.070732</td>\n      <td>3.442991</td>\n      <td>10.176551</td>\n      <td>-0.089178</td>\n    </tr>\n    <tr>\n      <th>1</th>\n      <td>0</td>\n      <td>0.546405</td>\n      <td>-9.835590</td>\n      <td>-2.038925</td>\n      <td>-0.047092</td>\n      <td>-0.078874</td>\n      <td>0.043187</td>\n      <td>0.228454</td>\n      <td>10.059553</td>\n      <td>-0.076696</td>\n    </tr>\n    <tr>\n      <th>2</th>\n      <td>0</td>\n      <td>-1.706207</td>\n      <td>-9.270792</td>\n      <td>-1.209448</td>\n      <td>-0.028965</td>\n      <td>-0.032652</td>\n      <td>0.015390</td>\n      <td>0.228454</td>\n      <td>9.503762</td>\n      <td>-0.032301</td>\n    </tr>\n    <tr>\n      <th>3</th>\n      <td>0</td>\n      <td>-1.416705</td>\n      <td>-9.548032</td>\n      <td>-1.860977</td>\n      <td>-0.022413</td>\n      <td>0.005049</td>\n      <td>-0.025753</td>\n      <td>0.228454</td>\n      <td>9.830320</td>\n      <td>0.002385</td>\n    </tr>\n    <tr>\n      <th>4</th>\n      <td>0</td>\n      <td>-0.598145</td>\n      <td>-9.853534</td>\n      <td>-1.378574</td>\n      <td>-0.014297</td>\n      <td>-0.046206</td>\n      <td>0.021902</td>\n      <td>0.228454</td>\n      <td>9.967466</td>\n      <td>-0.045045</td>\n    </tr>\n  </tbody>\n</table>\n</div>"
     },
     "metadata": {},
     "execution_count": 8
    }
   ],
   "source": [
    "df_f.head()"
   ]
  },
  {
   "cell_type": "code",
   "execution_count": 9,
   "metadata": {},
   "outputs": [],
   "source": [
    "# Join dataframes, use inner join for model building. Use left join to keep bookings with no label as testing file.\n",
    "\n",
    "df = pd.DataFrame()\n",
    "df = pd.merge(left=df_f, right=df_l, how='inner')"
   ]
  },
  {
   "cell_type": "code",
   "execution_count": 10,
   "metadata": {},
   "outputs": [],
   "source": [
    "feature_cols = ['Speed', 'acceleration', 'gyro', 'label', 'acceleration_x', 'acceleration_y', 'acceleration_z', 'gyro_x', 'gyro_y', 'gyro_z']"
   ]
  },
  {
   "cell_type": "code",
   "execution_count": 11,
   "metadata": {},
   "outputs": [],
   "source": [
    "df_avg = pd.DataFrame()"
   ]
  },
  {
   "cell_type": "code",
   "execution_count": 12,
   "metadata": {
    "tags": []
   },
   "outputs": [],
   "source": [
    "df_avg = df.groupby('bookingID', as_index=False)[feature_cols].mean()"
   ]
  },
  {
   "cell_type": "code",
   "execution_count": 13,
   "metadata": {
    "tags": []
   },
   "outputs": [
    {
     "output_type": "stream",
     "name": "stdout",
     "text": "<class 'pandas.core.frame.DataFrame'>\nInt64Index: 19934 entries, 0 to 19933\nData columns (total 11 columns):\n #   Column          Non-Null Count  Dtype  \n---  ------          --------------  -----  \n 0   bookingID       19934 non-null  object \n 1   Speed           19934 non-null  float64\n 2   acceleration    19934 non-null  float64\n 3   gyro            19934 non-null  float64\n 4   label           19934 non-null  int64  \n 5   acceleration_x  19934 non-null  float64\n 6   acceleration_y  19934 non-null  float64\n 7   acceleration_z  19934 non-null  float64\n 8   gyro_x          19934 non-null  float64\n 9   gyro_y          19934 non-null  float64\n 10  gyro_z          19934 non-null  float64\ndtypes: float64(9), int64(1), object(1)\nmemory usage: 1.8+ MB\n"
    }
   ],
   "source": [
    "df_avg.info()"
   ]
  },
  {
   "cell_type": "code",
   "execution_count": 30,
   "metadata": {},
   "outputs": [],
   "source": [
    "y = df_avg['label'].values\n",
    "X = df_avg.drop(['label'], axis=1).values"
   ]
  },
  {
   "cell_type": "code",
   "execution_count": 31,
   "metadata": {},
   "outputs": [],
   "source": [
    "X_train, X_test, y_train, y_test = train_test_split(X, y, test_size = 0.2, random_state = 42)"
   ]
  },
  {
   "cell_type": "code",
   "execution_count": 32,
   "metadata": {},
   "outputs": [],
   "source": [
    "lr = LogisticRegression()"
   ]
  },
  {
   "cell_type": "code",
   "execution_count": 33,
   "metadata": {},
   "outputs": [
    {
     "output_type": "execute_result",
     "data": {
      "text/plain": "LogisticRegression()"
     },
     "metadata": {},
     "execution_count": 33
    }
   ],
   "source": [
    "lr.fit(X_train, y_train)"
   ]
  },
  {
   "cell_type": "code",
   "execution_count": 34,
   "metadata": {},
   "outputs": [],
   "source": [
    "test = lr.predict(X_test)"
   ]
  },
  {
   "cell_type": "code",
   "execution_count": 37,
   "metadata": {},
   "outputs": [
    {
     "output_type": "execute_result",
     "data": {
      "text/plain": "0.7562076749435666"
     },
     "metadata": {},
     "execution_count": 37
    }
   ],
   "source": [
    "lr.score(X_test, y_test)"
   ]
  },
  {
   "cell_type": "code",
   "execution_count": 40,
   "metadata": {
    "tags": []
   },
   "outputs": [],
   "source": [
    "pickle.dump(lr, open('model.dat', 'wb'))"
   ]
  }
 ]
}